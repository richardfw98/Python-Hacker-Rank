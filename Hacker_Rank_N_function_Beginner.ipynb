{
  "nbformat": 4,
  "nbformat_minor": 0,
  "metadata": {
    "colab": {
      "provenance": []
    },
    "kernelspec": {
      "name": "python3",
      "display_name": "Python 3"
    },
    "language_info": {
      "name": "python"
    }
  },
  "cells": [
    {
      "cell_type": "markdown",
      "source": [
        "The included code stub will read an integer, , from STDIN.\n",
        "\n",
        "Without using any string methods, try to print the following:\n",
        "\n",
        "\n",
        "Note that \"\" represents the consecutive values in between.\n",
        "\n",
        "**Example**\n",
        "\n",
        "Print the string .\n",
        "\n",
        "Input Format\n",
        "\n",
        "The first line contains an integer .\n",
        "\n",
        "Constraints\n",
        "\n",
        "\n",
        "**Output Format**\n",
        "\n",
        "Print the list of integers from  through  as a string, without spaces."
      ],
      "metadata": {
        "id": "BRCGlDaRKpE9"
      }
    },
    {
      "cell_type": "code",
      "execution_count": 3,
      "metadata": {
        "colab": {
          "base_uri": "https://localhost:8080/"
        },
        "id": "BlGVF0QXKmzt",
        "outputId": "a7511d56-55b7-41ba-96ec-dda22cd9e0e8"
      },
      "outputs": [
        {
          "name": "stdout",
          "output_type": "stream",
          "text": [
            "Enter a number: 5\n"
          ]
        }
      ],
      "source": [
        "if __name__ == '__main__':\n",
        "    n = int(input(\"Enter a number: \"))"
      ]
    },
    {
      "cell_type": "code",
      "source": [
        "#loop through the number 1 + n\n",
        "for number in range(1,n):\n",
        "  print(number, end='')"
      ],
      "metadata": {
        "colab": {
          "base_uri": "https://localhost:8080/"
        },
        "id": "UHpFbcipLJWo",
        "outputId": "c657cc47-8d7b-4015-e987-830c718551a3"
      },
      "execution_count": 12,
      "outputs": [
        {
          "output_type": "stream",
          "name": "stdout",
          "text": [
            "1234"
          ]
        }
      ]
    }
  ]
}