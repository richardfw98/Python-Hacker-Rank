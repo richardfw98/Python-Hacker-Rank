{
  "nbformat": 4,
  "nbformat_minor": 0,
  "metadata": {
    "colab": {
      "provenance": []
    },
    "kernelspec": {
      "name": "python3",
      "display_name": "Python 3"
    },
    "language_info": {
      "name": "python"
    }
  },
  "cells": [
    {
      "cell_type": "markdown",
      "source": [
        "Task\n",
        "Given an integer, n , perform the following conditional actions:\n",
        "\n",
        "\n",
        "\n",
        "*   If n is odd, print Weird\n",
        "*   If n is even and in the inclusive range of 2 to 5 , print Not Weird\n",
        "*   If n is even and in the inclusive range of 6 to 20, print Weird\n",
        "*   If n is even and greater than 20 , print Not Weird\n",
        "\n",
        "**Input Format**\n",
        "\n",
        "A single line containing a positive integer, .\n",
        "\n",
        "**Constraints**\n",
        "\n",
        "Output Format\n",
        "\n",
        "Print Weird If n the number is weird. Otherwise, print Not Weird."
      ],
      "metadata": {
        "id": "gihSNa9bK8F6"
      }
    },
    {
      "cell_type": "code",
      "execution_count": 1,
      "metadata": {
        "id": "d_e1u8AXK3QS"
      },
      "outputs": [],
      "source": [
        "import math\n",
        "import os\n",
        "import random\n",
        "import re\n",
        "import sys"
      ]
    },
    {
      "cell_type": "code",
      "source": [
        "#To ensure the code after the condition being run\n",
        "if __name__ == '__main__':\n",
        "  # takes user inputs convert it to an interger\n",
        "    n = int(input().strip())"
      ],
      "metadata": {
        "colab": {
          "base_uri": "https://localhost:8080/"
        },
        "id": "eYgCv29LLrTp",
        "outputId": "f22dc247-02d4-41a3-debc-4990b7fb041c"
      },
      "execution_count": 5,
      "outputs": [
        {
          "name": "stdout",
          "output_type": "stream",
          "text": [
            "7\n"
          ]
        }
      ]
    },
    {
      "cell_type": "markdown",
      "source": [
        "First Elements\n",
        "\n",
        "__name__ == '__main__':\n",
        "\n",
        "This is a common Python construct used to ensure that certain parts of the code are only executed when the script is run directly, and not when it is imported as a module in another script. If the script is being run directly, the block inside this if statement will execute.\n",
        "\n",
        "Second Elements:\n"
      ],
      "metadata": {
        "id": "V5ZtFzedM0i6"
      }
    },
    {
      "cell_type": "markdown",
      "source": [
        "Second Elements\n",
        "\n",
        "n = int(input().strip())\n"
      ],
      "metadata": {
        "id": "WBtYQoRONaAl"
      }
    },
    {
      "cell_type": "code",
      "source": [
        "#Check condition based on the task descriptions\n",
        "\n",
        "if n % 2 == 1: #if n divided by 2 resulting 1 (odd number) are weird\n",
        "  print(\"Weird\")\n",
        "elif n % 2 == 0 and 2 <= n <= 5: #if n can be divided by 2 resulting zero (even number) and range between 2 and 5 is not weird\n",
        "  print(\"Not Weird\")\n",
        "elif n % 2 == 0 and 6 <= n <= 20: # similar condition like the above but range between 6 and 20\n",
        "  print(\"Weird\")\n",
        "else:\n",
        "  print(\"Not Weird\")"
      ],
      "metadata": {
        "colab": {
          "base_uri": "https://localhost:8080/"
        },
        "id": "vRa3kNT6M2hd",
        "outputId": "de31fd33-3dfc-47a0-8510-799b1821a2d1"
      },
      "execution_count": 7,
      "outputs": [
        {
          "output_type": "stream",
          "name": "stdout",
          "text": [
            "Weird\n"
          ]
        }
      ]
    },
    {
      "cell_type": "markdown",
      "source": [
        "In this case we put number 7, 7 is an odd number resulting weird"
      ],
      "metadata": {
        "id": "zlf5tb1BQSg1"
      }
    }
  ]
}