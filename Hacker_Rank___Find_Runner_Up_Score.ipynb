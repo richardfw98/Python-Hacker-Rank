{
  "nbformat": 4,
  "nbformat_minor": 0,
  "metadata": {
    "colab": {
      "provenance": []
    },
    "kernelspec": {
      "name": "python3",
      "display_name": "Python 3"
    },
    "language_info": {
      "name": "python"
    }
  },
  "cells": [
    {
      "cell_type": "markdown",
      "source": [
        "Given the participants' score sheet for your University Sports Day, you are required to find the runner-up score. You are given  scores. Store them in a list and find the score of the runner-up.\n",
        "\n",
        "**Input Format**\n",
        "\n",
        "The first line contains . The second line contains an array   of  integers each separated by a space.\n",
        "\n",
        "![image.png](data:image/png;base64,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)\n",
        "\n",
        "**Output Format**\n",
        "\n",
        "Print the runner-up score.\n",
        "\n",
        "Sample Input 0"
      ],
      "metadata": {
        "id": "KwAB1WZdCh3K"
      }
    },
    {
      "cell_type": "code",
      "source": [
        "def find_runner_up(scores):\n",
        "    \"\"\"\n",
        "    Remove duplicates, sort in descending order,\n",
        "    and select the second largest number.\n",
        "    \"\"\"\n",
        "    scores_int = list(map(int, scores))  # Convert scores to integers\n",
        "    unique_scores = sorted(set(scores_int), reverse=True)  # Remove duplicates and sort descending\n",
        "\n",
        "    return unique_scores[1] if len(unique_scores) > 1 else None  # Return second largest if available\n",
        "\n",
        "if __name__ == '__main__':\n",
        "    original_scores = ['5', '2', '3', '6', '6', '5','7','8','8']\n",
        "    runner_up_score = find_runner_up(original_scores)\n",
        "    print(runner_up_score)\n"
      ],
      "metadata": {
        "colab": {
          "base_uri": "https://localhost:8080/"
        },
        "id": "CO-iCMDDC9dK",
        "outputId": "e10b7a8a-4a12-4d6d-ce2d-3a5b08b3caa7"
      },
      "execution_count": 13,
      "outputs": [
        {
          "output_type": "stream",
          "name": "stdout",
          "text": [
            "7\n"
          ]
        }
      ]
    }
  ]
}