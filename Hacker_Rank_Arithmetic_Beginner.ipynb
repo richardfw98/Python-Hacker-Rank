{
  "nbformat": 4,
  "nbformat_minor": 0,
  "metadata": {
    "colab": {
      "provenance": []
    },
    "kernelspec": {
      "name": "python3",
      "display_name": "Python 3"
    },
    "language_info": {
      "name": "python"
    }
  },
  "cells": [
    {
      "cell_type": "markdown",
      "source": [
        "**Task**\n",
        "\n",
        "The provided code stub reads two integers from STDIN,  and . Add code to print three lines where:\n",
        "\n",
        "\n",
        "\n",
        "1.   The first line contains the sum of the two numbers.\n",
        "2.   The second line contains the difference of the two numbers (first - second).\n",
        "3.   The third line contains the product of the two numbers.\n",
        "\n",
        "**Example:**\n",
        "\n",
        "a = 3\n",
        "\n",
        "b = 5"
      ],
      "metadata": {
        "id": "XFch_5Hn8w_5"
      }
    },
    {
      "cell_type": "code",
      "source": [
        "import math\n",
        "import os\n",
        "import random\n",
        "import re\n",
        "import sys"
      ],
      "metadata": {
        "id": "KU-vZcGRplRm"
      },
      "execution_count": 2,
      "outputs": []
    },
    {
      "cell_type": "code",
      "execution_count": 5,
      "metadata": {
        "colab": {
          "base_uri": "https://localhost:8080/"
        },
        "id": "vBC8Ui24pau3",
        "outputId": "39d675d8-52da-441f-c882-4fefaf9080d4"
      },
      "outputs": [
        {
          "name": "stdout",
          "output_type": "stream",
          "text": [
            "3\n",
            "5\n"
          ]
        }
      ],
      "source": [
        "if __name__ == '__main__':\n",
        "  a = int(input())\n",
        "  b = int(input())"
      ]
    },
    {
      "cell_type": "code",
      "source": [
        "#condition\n",
        "print (a+b)\n",
        "#condition 2\n",
        "print (a-b)\n",
        "#condition 3\n",
        "print (a*b)"
      ],
      "metadata": {
        "colab": {
          "base_uri": "https://localhost:8080/"
        },
        "id": "Kknumxkosi8i",
        "outputId": "838bdb28-147e-4743-85ab-ca6d639b6f95"
      },
      "execution_count": 6,
      "outputs": [
        {
          "output_type": "stream",
          "name": "stdout",
          "text": [
            "8\n",
            "-2\n",
            "15\n"
          ]
        }
      ]
    }
  ]
}